{
  "nbformat": 4,
  "nbformat_minor": 0,
  "metadata": {
    "colab": {
      "provenance": []
    },
    "kernelspec": {
      "name": "python3",
      "display_name": "Python 3"
    },
    "language_info": {
      "name": "python"
    }
  },
  "cells": [
    {
      "cell_type": "markdown",
      "source": [
        "Python Basics Questions"
      ],
      "metadata": {
        "id": "kKXQZmNkUKkM"
      }
    },
    {
      "cell_type": "markdown",
      "source": [],
      "metadata": {
        "id": "H23DpNVUV6au"
      }
    },
    {
      "cell_type": "markdown",
      "source": [
        "**1- What is Python, and why is it popular ?**\n",
        "\n",
        "  Python is a general-purpose, high level programming  language. Python is used for web development, machine learing, data analysis  etc. it is currently most used for programming languages .\n",
        "\n",
        "  Popular useses- One of the most resason for the popularity of python. Python has limited set of keywords.And we can learn very easy because syntax is very simple and easy to learn ."
      ],
      "metadata": {
        "id": "CgARWQdoZfhn"
      }
    },
    {
      "cell_type": "markdown",
      "source": [
        "**2-  What is an interpreter in Python ?**\n",
        "\n",
        "Python is interpreter language. The interpreter take one intruction set form source code at the time and translate the machine code then execute the programm code .\n",
        "\n"
      ],
      "metadata": {
        "id": "gImAYrT_bSRV"
      }
    },
    {
      "cell_type": "markdown",
      "source": [
        "**3-What are pre-defined keywords in Python? ***\n",
        "\n",
        "Pythone Keywords are predefined, reserved identifiers that have special meanings to the compiler. we cannot be used as identifiers, such as variable names, function names, or class names.\n"
      ],
      "metadata": {
        "id": "9Sp9uXBocsRG"
      }
    },
    {
      "cell_type": "markdown",
      "source": [
        "**4- Can keywords be used as variable names ?**\n",
        "\n",
        "No we can not use keywords as variable name ,\n",
        "\n",
        "ex-\n",
        "\n",
        "if- if keyword we use for condition .\n",
        "\n",
        "a=5 , we have define as a number\n"
      ],
      "metadata": {
        "id": "Elv5El3qfpyF"
      }
    },
    {
      "cell_type": "markdown",
      "source": [
        "***5- What is mutability in Python ? ***\n",
        "\n",
        " Mutability allows us to change its value once it is created.it is when something is changeable or has the ability to change.\n"
      ],
      "metadata": {
        "id": "S68W-JM0g_BP"
      }
    },
    {
      "cell_type": "markdown",
      "source": [
        "**6-Why are lists mutable, but tuples are immutable**\n",
        "\n",
        "Lists are mutable beacuse we can modify . and Tuples are immutable because we cannot be modified."
      ],
      "metadata": {
        "id": "9kHGMFSbi1k3"
      }
    },
    {
      "cell_type": "markdown",
      "source": [
        "**7-What is the difference between “==” and “is” operators in Python ?**\n",
        "\n",
        "The == operator in Python,  It checks if the values of two objects are equal. It compares the content of the objects.\n",
        "\n",
        "print(numbers_1 == numbers_2) true\n",
        "\n",
        "print(numbers_1 == numbers_3) true\n",
        "\n",
        "The \"is\" operator in Python,  It checks if two variables refer to the same object in memory. It compares the memory addresses of the objects.\n",
        "\n",
        "print(numbers_1 is numbers_2) false\n",
        "\n",
        "print(numbers_1 is numbers_3) false"
      ],
      "metadata": {
        "id": "NP4MCq0xjROS"
      }
    },
    {
      "cell_type": "markdown",
      "source": [
        "**8- What are logical operators in Python ?**\n",
        "\n",
        "Logical opreter we use to loop and conditonal statment .\n",
        "They perform Logical AND, Logical OR, and Logical NOT operations.\n",
        "\n",
        "\n",
        "EX-   \n",
        "x and y\t, X or Y , not x\n"
      ],
      "metadata": {
        "id": "mqp1HwGblzRX"
      }
    },
    {
      "cell_type": "markdown",
      "source": [
        "**9- What is type casting in Python ?**\n",
        "\n",
        "\n",
        "Type Casting, also known as type conversion, is a process that converts a variable's data type into another data type. These conversions can be implicit (automatically interpreted) or explicit (using built-in functions)."
      ],
      "metadata": {
        "id": "sq-Ks5qWnbGQ"
      }
    },
    {
      "cell_type": "markdown",
      "source": [
        "**10- What is the difference between implicit and explicit type casting ?**\n",
        "\n",
        "**Implicit type casting**- the programming language automatically converts data from one type to another data type . For example, if you have an integer variable and you  try to assign it to a float variable, the programming language will automatically convert the integer to a float without you having to do anything.\n",
        "\n",
        "**Explicit type casting-**We known as type conversion  when the programmer explicitly converts a value from one data type to another.  implicit type casting, explicit type casting requires the programmer to specify the desired data type conversion.\n"
      ],
      "metadata": {
        "id": "KanYY1ecn56O"
      }
    },
    {
      "cell_type": "markdown",
      "source": [
        "**11- What is the purpose of conditional statements in Python ?**\n",
        "\n",
        "Conditional statement - we have make decision and execute the block of code for the ture or false .\n",
        "\n",
        "if condition:\n",
        "    # code to execute if condition is true\n",
        "\n",
        "\n",
        "num = 5\n",
        "\n",
        "if num > 0:\n",
        "    print(\"The number is positive.\")\n"
      ],
      "metadata": {
        "id": "AST8Lbpcphjk"
      }
    },
    {
      "cell_type": "markdown",
      "source": [
        "**12- How does the elif statement work ?**\n",
        "\n",
        "if statement:\n",
        "The initial condition is checked. If it's true, the code block within the if statement is executed.\n",
        "\n",
        "\n",
        "elif statement:\n",
        "If the if condition is false, the program checks the conditions in the elif statements one by one. If any of the elif conditions are true, their corresponding code blocks are executed, and no further elif or else statements are checked.\n",
        "\n",
        "ex-\n",
        "\n",
        "\n",
        "n= [1,2,\"Rishabh\",56,76,4,]\n",
        "for i in n:\n",
        "    if i==\"Rishabh\":\n",
        "        break\n",
        "    print(i)\n",
        "else:\n",
        "    print(\"done \")\n"
      ],
      "metadata": {
        "id": "NJ0oKW2tqmwt"
      }
    },
    {
      "cell_type": "markdown",
      "source": [
        "**13- What is the difference between for and while loops ?**\n",
        "\n",
        "**For loop -**The for loop is used how many times you want to execute the block of code.\n",
        "\n",
        "It iterates over a sequence and executes the block of code for each item in the sequence.\n",
        "\n",
        "\n",
        "n= [1,2,45,56,76,4,]\n",
        "\n",
        "for i in n:\n",
        "    print(i)\n",
        "\n",
        "** While loop  -  ** The while loop is used when you don't know in advance how many times you want to execute the block of code. It continues to execute as long as the specified condition is true.\n",
        "\n",
        "\n",
        "n=20\n",
        "i=0\n",
        "\n",
        "\n",
        "while i<=n:\n",
        "    i=i+1\n",
        "    print(i)\n",
        "        \n",
        "else:\n",
        "    print(\"code run \")\n",
        "    \n",
        "\n"
      ],
      "metadata": {
        "id": "qIEG8P99r1am"
      }
    },
    {
      "cell_type": "markdown",
      "source": [
        " **14- Describe a scenario where a while loop is more suitable than a for loop.\n",
        "?**\n",
        "\n",
        " Both methods can help you iterate through your code.\n",
        "for loops are best used when you know the number of iterations of time, where as a while loop is best used when you don't know the number of iterations in advance."
      ],
      "metadata": {
        "id": "7X_mEqPWtMkz"
      }
    },
    {
      "cell_type": "code",
      "source": [],
      "metadata": {
        "id": "oPDl7vuwUJSn"
      },
      "execution_count": null,
      "outputs": []
    },
    {
      "cell_type": "markdown",
      "source": [
        "**Practical Questions**\n",
        "\n",
        "\n",
        "---\n",
        "\n"
      ],
      "metadata": {
        "id": "ziL5HMP3czpf"
      }
    },
    {
      "cell_type": "markdown",
      "source": [
        "**1- Write a Python program to print \"Hello, World!**\n"
      ],
      "metadata": {
        "id": "G-wnbJ9wdMGm"
      }
    },
    {
      "cell_type": "code",
      "source": [
        "print(\"Hello, World\")"
      ],
      "metadata": {
        "colab": {
          "base_uri": "https://localhost:8080/"
        },
        "id": "ZgR2jAVzdSVf",
        "outputId": "3eafb640-f531-4b03-f308-34ffeef4fb94"
      },
      "execution_count": null,
      "outputs": [
        {
          "output_type": "stream",
          "name": "stdout",
          "text": [
            "Hello, World\n"
          ]
        }
      ]
    },
    {
      "cell_type": "markdown",
      "source": [
        "**2- Write a Python program that displays your name and age?**"
      ],
      "metadata": {
        "id": "M4r1oyMxdpUw"
      }
    },
    {
      "cell_type": "code",
      "source": [
        "name = \"Rishabh\";\n",
        "age= 26;\n",
        "print(\"my name is \", name , \"and age is \", age) #prining name and age\n"
      ],
      "metadata": {
        "colab": {
          "base_uri": "https://localhost:8080/"
        },
        "id": "LUnJ76jFda5b",
        "outputId": "250ae99b-573b-426d-a467-b8db4a77bcf1"
      },
      "execution_count": null,
      "outputs": [
        {
          "output_type": "stream",
          "name": "stdout",
          "text": [
            "my name is  Rishabh and age is  26\n"
          ]
        }
      ]
    },
    {
      "cell_type": "markdown",
      "source": [
        "**3- Write code to print all the pre-defined keywords in Python using the keyword library?**\n"
      ],
      "metadata": {
        "id": "7VSneNY7feZO"
      }
    },
    {
      "cell_type": "code",
      "source": [
        "print(False == 0)\n",
        "print(True == 1)"
      ],
      "metadata": {
        "colab": {
          "base_uri": "https://localhost:8080/"
        },
        "id": "xtM36Qf0fi1l",
        "outputId": "0a578891-391a-40ae-cc45-ac3ab02d8580"
      },
      "execution_count": null,
      "outputs": [
        {
          "output_type": "stream",
          "name": "stdout",
          "text": [
            "True\n",
            "True\n"
          ]
        }
      ]
    },
    {
      "cell_type": "code",
      "source": [
        "print(True + True + True)"
      ],
      "metadata": {
        "colab": {
          "base_uri": "https://localhost:8080/"
        },
        "id": "Been_Q9fenoG",
        "outputId": "1daa4d57-02c4-4279-ca07-38776704485b"
      },
      "execution_count": null,
      "outputs": [
        {
          "output_type": "stream",
          "name": "stdout",
          "text": [
            "3\n"
          ]
        }
      ]
    },
    {
      "cell_type": "code",
      "source": [
        "print (True == True)"
      ],
      "metadata": {
        "colab": {
          "base_uri": "https://localhost:8080/"
        },
        "id": "LgypsZs9hAnD",
        "outputId": "44af892e-7535-448a-e698-1b84d64f577c"
      },
      "execution_count": null,
      "outputs": [
        {
          "output_type": "stream",
          "name": "stdout",
          "text": [
            "True\n"
          ]
        }
      ]
    },
    {
      "cell_type": "code",
      "source": [
        "print (False == True)"
      ],
      "metadata": {
        "colab": {
          "base_uri": "https://localhost:8080/"
        },
        "id": "HoCljCKGhLaJ",
        "outputId": "e9ee9601-8e8f-45f6-bacc-6c806dc153b4"
      },
      "execution_count": null,
      "outputs": [
        {
          "output_type": "stream",
          "name": "stdout",
          "text": [
            "False\n"
          ]
        }
      ]
    },
    {
      "cell_type": "code",
      "source": [
        "a=True\n",
        "b=False\n"
      ],
      "metadata": {
        "id": "Y4XmNU6XhPe7"
      },
      "execution_count": null,
      "outputs": []
    },
    {
      "cell_type": "code",
      "source": [
        "print(3 in [1,2,3])"
      ],
      "metadata": {
        "colab": {
          "base_uri": "https://localhost:8080/"
        },
        "id": "LQM5lYLlhcXq",
        "outputId": "6310c690-eecc-478c-b010-0eaeb6979a4c"
      },
      "execution_count": null,
      "outputs": [
        {
          "output_type": "stream",
          "name": "stdout",
          "text": [
            "True\n"
          ]
        }
      ]
    },
    {
      "cell_type": "code",
      "source": [
        "print(4 in [1,2,3])"
      ],
      "metadata": {
        "colab": {
          "base_uri": "https://localhost:8080/"
        },
        "id": "1L1PBECSh5Yo",
        "outputId": "b9a392e6-7b49-435f-f42c-3ef6c9e5f55e"
      },
      "execution_count": null,
      "outputs": [
        {
          "output_type": "stream",
          "name": "stdout",
          "text": [
            "False\n"
          ]
        }
      ]
    },
    {
      "cell_type": "code",
      "source": [
        "for num in range(7):\n",
        "    if num == 2:     # here we are using for loop and checking condition continue\n",
        "        continue\n",
        "    print(num)"
      ],
      "metadata": {
        "colab": {
          "base_uri": "https://localhost:8080/"
        },
        "id": "RQmYOMStiGct",
        "outputId": "c19130aa-0a38-4dbb-9aa9-0bef8441f0d5"
      },
      "execution_count": null,
      "outputs": [
        {
          "output_type": "stream",
          "name": "stdout",
          "text": [
            "0\n",
            "1\n",
            "3\n",
            "4\n",
            "5\n",
            "6\n"
          ]
        }
      ]
    },
    {
      "cell_type": "code",
      "source": [
        "count = 0\n",
        "while count < 4:\n",
        "    count += 1    # here we are using while loop and checking condition break\n",
        "    if count == 3:\n",
        "        break\n",
        "    print(count)"
      ],
      "metadata": {
        "colab": {
          "base_uri": "https://localhost:8080/"
        },
        "id": "UMq2n2IiiPts",
        "outputId": "a7f55db1-611b-46e3-8440-4e74f7376978"
      },
      "execution_count": null,
      "outputs": [
        {
          "output_type": "stream",
          "name": "stdout",
          "text": [
            "1\n",
            "2\n"
          ]
        }
      ]
    },
    {
      "cell_type": "markdown",
      "source": [
        "5- Create a list and tuple in Python, and demonstrate how attempting to change an element works differently\n",
        "for each."
      ],
      "metadata": {
        "id": "Qw0CTi9q02xO"
      }
    },
    {
      "cell_type": "code",
      "source": [
        "list= [10, 20, 30]\n",
        "list.append(5) # we can append value in list\n",
        "list"
      ],
      "metadata": {
        "colab": {
          "base_uri": "https://localhost:8080/"
        },
        "id": "QflPznJ3vSNA",
        "outputId": "4abf979d-f21f-4144-d41d-ca738cb593d8"
      },
      "execution_count": 32,
      "outputs": [
        {
          "output_type": "execute_result",
          "data": {
            "text/plain": [
              "[10, 20, 30, 5]"
            ]
          },
          "metadata": {},
          "execution_count": 32
        }
      ]
    },
    {
      "cell_type": "code",
      "source": [
        "Tuple = (1, \"hello\", 3.14)\n",
        "Tuple.append(5) #we can not append value in tuple\n",
        "tuple"
      ],
      "metadata": {
        "colab": {
          "base_uri": "https://localhost:8080/",
          "height": 176
        },
        "id": "R8a4nCp83UKt",
        "outputId": "38bb3c53-dbe5-41c2-9ee0-2e267eacaee1"
      },
      "execution_count": 33,
      "outputs": [
        {
          "output_type": "error",
          "ename": "AttributeError",
          "evalue": "'tuple' object has no attribute 'append'",
          "traceback": [
            "\u001b[0;31m---------------------------------------------------------------------------\u001b[0m",
            "\u001b[0;31mAttributeError\u001b[0m                            Traceback (most recent call last)",
            "\u001b[0;32m<ipython-input-33-9d2a96b17eba>\u001b[0m in \u001b[0;36m<cell line: 0>\u001b[0;34m()\u001b[0m\n\u001b[1;32m      1\u001b[0m \u001b[0mTuple\u001b[0m \u001b[0;34m=\u001b[0m \u001b[0;34m(\u001b[0m\u001b[0;36m1\u001b[0m\u001b[0;34m,\u001b[0m \u001b[0;34m\"hello\"\u001b[0m\u001b[0;34m,\u001b[0m \u001b[0;36m3.14\u001b[0m\u001b[0;34m)\u001b[0m\u001b[0;34m\u001b[0m\u001b[0;34m\u001b[0m\u001b[0m\n\u001b[0;32m----> 2\u001b[0;31m \u001b[0mTuple\u001b[0m\u001b[0;34m.\u001b[0m\u001b[0mappend\u001b[0m\u001b[0;34m(\u001b[0m\u001b[0;36m5\u001b[0m\u001b[0;34m)\u001b[0m\u001b[0;34m\u001b[0m\u001b[0;34m\u001b[0m\u001b[0m\n\u001b[0m\u001b[1;32m      3\u001b[0m \u001b[0mtuple\u001b[0m\u001b[0;34m\u001b[0m\u001b[0;34m\u001b[0m\u001b[0m\n",
            "\u001b[0;31mAttributeError\u001b[0m: 'tuple' object has no attribute 'append'"
          ]
        }
      ]
    },
    {
      "cell_type": "code",
      "source": [
        "print(Tuple[0])"
      ],
      "metadata": {
        "colab": {
          "base_uri": "https://localhost:8080/"
        },
        "id": "AIP60zP4imhT",
        "outputId": "06f636dd-f18e-4fc3-cf0a-e86d72d671da"
      },
      "execution_count": null,
      "outputs": [
        {
          "output_type": "stream",
          "name": "stdout",
          "text": [
            "1\n"
          ]
        }
      ]
    },
    {
      "cell_type": "code",
      "source": [
        "print(Tuple[1])"
      ],
      "metadata": {
        "colab": {
          "base_uri": "https://localhost:8080/"
        },
        "id": "Rqj6HoBv3xRx",
        "outputId": "3b65c479-1cb4-493d-96da-5aa70ae4ec2b"
      },
      "execution_count": null,
      "outputs": [
        {
          "output_type": "stream",
          "name": "stdout",
          "text": [
            "hello\n"
          ]
        }
      ]
    },
    {
      "cell_type": "code",
      "source": [
        "thistuple = (\"apple\", \"banana\", \"cherry\", \"banana\")\n",
        "print(thistuple)"
      ],
      "metadata": {
        "colab": {
          "base_uri": "https://localhost:8080/"
        },
        "id": "9iWoFDMu32px",
        "outputId": "ba5273e2-a151-4c88-ff94-6a3f62ff0e6c"
      },
      "execution_count": null,
      "outputs": [
        {
          "output_type": "stream",
          "name": "stdout",
          "text": [
            "('apple', 'banana', 'cherry', 'banana')\n"
          ]
        }
      ]
    },
    {
      "cell_type": "code",
      "source": [
        "alltuple = (\"apple\", \"banana\", \"cherry\", \"orange\", \"kiwi\", \"melon\", \"mango\")\n",
        "print(alltuple[2:-2])"
      ],
      "metadata": {
        "colab": {
          "base_uri": "https://localhost:8080/"
        },
        "id": "pOpUJYRQ4VKu",
        "outputId": "c9d10e90-8b89-4584-e70c-e8fa0df90ac3"
      },
      "execution_count": 34,
      "outputs": [
        {
          "output_type": "stream",
          "name": "stdout",
          "text": [
            "('cherry', 'orange', 'kiwi')\n"
          ]
        }
      ]
    },
    {
      "cell_type": "code",
      "source": [
        "alltuple = (\"apple\", \"banana\", \"cherry\", \"orange\", \"kiwi\", \"melon\", \"mango\")\n",
        "print(alltuple[1:5])"
      ],
      "metadata": {
        "colab": {
          "base_uri": "https://localhost:8080/"
        },
        "id": "A1_XTBa25BPr",
        "outputId": "de83a397-abaf-4329-b437-d351d30fa8f6"
      },
      "execution_count": 1,
      "outputs": [
        {
          "output_type": "stream",
          "name": "stdout",
          "text": [
            "('banana', 'cherry', 'orange', 'kiwi')\n"
          ]
        }
      ]
    },
    {
      "cell_type": "code",
      "source": [
        "alltuple = (\"apple\", \"banana\", \"cherry\", \"orange\", \"kiwi\", \"melon\", \"mango\")\n",
        "print(alltuple[:4])"
      ],
      "metadata": {
        "colab": {
          "base_uri": "https://localhost:8080/"
        },
        "id": "k0ylyAJQ5Fof",
        "outputId": "db02b0c7-f898-448e-b1fa-f2895a9c2099"
      },
      "execution_count": null,
      "outputs": [
        {
          "output_type": "stream",
          "name": "stdout",
          "text": [
            "('apple', 'banana', 'cherry', 'banana')\n"
          ]
        }
      ]
    },
    {
      "cell_type": "code",
      "source": [
        "alltuple = (\"apple\", \"banana\", \"cherry\", \"orange\", \"kiwi\", \"melon\", \"mango\")\n",
        "print(alltuple[1:4])"
      ],
      "metadata": {
        "colab": {
          "base_uri": "https://localhost:8080/"
        },
        "id": "QDE4Sm485stC",
        "outputId": "af898e97-57ca-4d93-f9e3-9cd6ea03adeb"
      },
      "execution_count": 2,
      "outputs": [
        {
          "output_type": "stream",
          "name": "stdout",
          "text": [
            "('banana', 'cherry', 'orange')\n"
          ]
        }
      ]
    },
    {
      "cell_type": "markdown",
      "source": [
        "**6. Write a function to demonstrate the behavior of mutable and immutable arguments.**\n"
      ],
      "metadata": {
        "id": "qcLh8Uce7P1f"
      }
    },
    {
      "cell_type": "code",
      "source": [
        "def num1(x): #make function num1 and print this\n",
        "    x =x+ 1\n",
        "    print(\"change the number:  \", x)\n",
        "\n",
        "def num2(lst):\n",
        "    lst.append(4)\n",
        "    print(\"change the list:  \", lst)\n",
        "\n",
        "# Immutable example\n",
        "a = 10\n",
        "num1(a)\n",
        "print(\"The number for useing immutable:\", a)\n",
        "\n",
        "# Mutable example\n",
        "b = [1, 2, 3]\n",
        "num2(b)\n",
        "print(\"The number for useing mutable: \", b)\n"
      ],
      "metadata": {
        "colab": {
          "base_uri": "https://localhost:8080/"
        },
        "id": "lJrrVCxir8hS",
        "outputId": "010db395-429d-4dcf-9ee0-39b34c5e36f1"
      },
      "execution_count": 31,
      "outputs": [
        {
          "output_type": "stream",
          "name": "stdout",
          "text": [
            "change the number:   11\n",
            "The number for useing immutable: 10\n",
            " change the list:   [1, 2, 3, 4]\n",
            "The number for useing mutable:  [1, 2, 3, 4]\n"
          ]
        }
      ]
    },
    {
      "cell_type": "code",
      "source": [
        "#"
      ],
      "metadata": {
        "id": "QycCpucu7SUJ"
      },
      "execution_count": null,
      "outputs": []
    },
    {
      "cell_type": "markdown",
      "source": [],
      "metadata": {
        "id": "DIKj3UNPc2Jw"
      }
    },
    {
      "cell_type": "markdown",
      "source": [
        "**7. Write a program that performs basic arithmetic operations on two user-input numbers.**"
      ],
      "metadata": {
        "id": "iy_Z82rOkEui"
      }
    },
    {
      "cell_type": "code",
      "source": [
        "num1=int(input(\"Enter the first number =  \"))\n",
        "num2=int(input(\"Enter the Second number =  \"))\n",
        "num3= num1+ num2\n",
        "print(\"Total num of sum = \" , num3)\n"
      ],
      "metadata": {
        "colab": {
          "base_uri": "https://localhost:8080/"
        },
        "id": "uaVSaSBMkIb0",
        "outputId": "21ead273-973b-4461-bb8b-8ad5a40c3fa5"
      },
      "execution_count": 8,
      "outputs": [
        {
          "output_type": "stream",
          "name": "stdout",
          "text": [
            "Enter the first number =  63\n",
            "Enter the Second number =  43\n",
            "Total num of sum =  106\n"
          ]
        }
      ]
    },
    {
      "cell_type": "code",
      "source": [
        "num1=int(input(\"Enter the first number\"))\n",
        "for i in range(0, num1 + 1, 2):\n",
        "  print(i)\n",
        "\n",
        "\n"
      ],
      "metadata": {
        "id": "wU0OtKTY6oE0",
        "colab": {
          "base_uri": "https://localhost:8080/"
        },
        "outputId": "6cb6bf6e-ba0e-4ca8-c917-27af801e4712"
      },
      "execution_count": null,
      "outputs": [
        {
          "output_type": "stream",
          "name": "stdout",
          "text": [
            "Enter the first number12\n",
            "0\n",
            "2\n",
            "4\n",
            "6\n",
            "8\n",
            "10\n",
            "12\n"
          ]
        }
      ]
    },
    {
      "cell_type": "code",
      "source": [
        " num2 = int(input(\"Enter the first number\"))\n",
        "\n",
        " i=0\n",
        " while i<num2:\n",
        "    print(i)\n",
        "    i=i+2\n",
        "\n",
        "\n",
        "\n"
      ],
      "metadata": {
        "colab": {
          "base_uri": "https://localhost:8080/"
        },
        "id": "7TpcagfdlpDv",
        "outputId": "28afbe70-1ed3-499a-ea18-406b09d6dddc"
      },
      "execution_count": null,
      "outputs": [
        {
          "output_type": "stream",
          "name": "stdout",
          "text": [
            "Enter the first number10\n",
            "0\n",
            "2\n",
            "4\n",
            "6\n",
            "8\n"
          ]
        }
      ]
    },
    {
      "cell_type": "markdown",
      "source": [
        "**8-Write a program to demonstrate the use of logical operators.**"
      ],
      "metadata": {
        "id": "T-mcB9dkwNQf"
      }
    },
    {
      "cell_type": "code",
      "source": [
        "a = 200\n",
        "b = 33\n",
        "if b>a:\n",
        "  print(\"b is greater than a\")\n",
        "else:\n",
        "  print(\"b is not greater than a\")"
      ],
      "metadata": {
        "colab": {
          "base_uri": "https://localhost:8080/"
        },
        "id": "93BLwkpNLS1Z",
        "outputId": "4c5037ac-d055-4539-fe30-e84a2271bae7"
      },
      "execution_count": 10,
      "outputs": [
        {
          "output_type": "stream",
          "name": "stdout",
          "text": [
            "b is not greater than a\n"
          ]
        }
      ]
    },
    {
      "cell_type": "code",
      "source": [
        "x = \"Hello\"\n",
        "y = \"\"\n",
        "\n",
        "print(bool(x))\n",
        "print(bool(y))"
      ],
      "metadata": {
        "id": "KlOpnuSJqIfi",
        "colab": {
          "base_uri": "https://localhost:8080/"
        },
        "outputId": "85da030e-b252-4860-822f-87bd7f528c0c"
      },
      "execution_count": 12,
      "outputs": [
        {
          "output_type": "stream",
          "name": "stdout",
          "text": [
            "True\n",
            "False\n"
          ]
        }
      ]
    },
    {
      "cell_type": "code",
      "source": [
        "x = \"Hello\"\n",
        "y = \"djad\"\n",
        "\n",
        "print(bool(x))   #boolean oprater\n",
        "print(bool(y))"
      ],
      "metadata": {
        "colab": {
          "base_uri": "https://localhost:8080/"
        },
        "id": "hu8XmgQFL0SC",
        "outputId": "0e40f47e-3049-4518-eebe-9adc66a4c385"
      },
      "execution_count": 17,
      "outputs": [
        {
          "output_type": "stream",
          "name": "stdout",
          "text": [
            "True\n",
            "True\n"
          ]
        }
      ]
    },
    {
      "cell_type": "code",
      "source": [
        "a = True\n",
        "print(not a)\n"
      ],
      "metadata": {
        "colab": {
          "base_uri": "https://localhost:8080/"
        },
        "id": "oAobLbujO_wj",
        "outputId": "f2cad04c-025a-414b-824f-ed2197f69cd5"
      },
      "execution_count": 18,
      "outputs": [
        {
          "output_type": "stream",
          "name": "stdout",
          "text": [
            "False\n"
          ]
        }
      ]
    },
    {
      "cell_type": "code",
      "source": [
        "text= \"i am Rishabh Maurya\"\n",
        "if \"amaa\" not in text: #here we are using \"Not oprater\"\n",
        "  print(\"text in not this sentence \")\n",
        "else:\n",
        "  print(\"Text in sentence\")\n"
      ],
      "metadata": {
        "colab": {
          "base_uri": "https://localhost:8080/"
        },
        "id": "a_Z9rHM5PCU8",
        "outputId": "a7c120ed-a8a2-4174-e17b-d9aea7dc42b9"
      },
      "execution_count": 25,
      "outputs": [
        {
          "output_type": "stream",
          "name": "stdout",
          "text": [
            "text in this sentence \n"
          ]
        }
      ]
    },
    {
      "cell_type": "markdown",
      "source": [
        "**9. Write a Python program to convert user input from string to integer, float, and boolean types.**"
      ],
      "metadata": {
        "id": "MJGPxKLsyIgO"
      }
    },
    {
      "cell_type": "code",
      "source": [
        "num_int = int(input(\"Enter the integer value: \"))\n",
        "strs_int = input(\"Enter the string value (must be a number to convert): \")\n",
        "int_float = float(input(\"Enter the float value: \"))\n",
        "\n",
        "print(int(strs_int))        # Converting is  string input to integer\n",
        "print(int(int_float))       # Converting is  float input to integer\n",
        "print(str(num_int))         # Converting is  integer input to string\n"
      ],
      "metadata": {
        "id": "_vC9aAWtwRe2",
        "colab": {
          "base_uri": "https://localhost:8080/"
        },
        "outputId": "61595e84-c3bc-4a9d-a8ef-a257fb727a7a"
      },
      "execution_count": 36,
      "outputs": [
        {
          "output_type": "stream",
          "name": "stdout",
          "text": [
            "Enter the integer value: 43\n",
            "Enter the string value (must be a number to convert): 323\n",
            "Enter the float value: 3.32\n",
            "323\n",
            "3\n",
            "43\n"
          ]
        }
      ]
    },
    {
      "cell_type": "markdown",
      "source": [
        "**10-Write code to demonstrate type casting with list elements**"
      ],
      "metadata": {
        "id": "Nobh1x1aTyWQ"
      }
    },
    {
      "cell_type": "code",
      "source": [
        "list_num = ['1', 2, 3.0, True]\n",
        "num = [int(i) for i in list_num] #convert all value in intenger\n",
        "print(\"change all value \", num)"
      ],
      "metadata": {
        "colab": {
          "base_uri": "https://localhost:8080/"
        },
        "id": "8cAI4GqqT25h",
        "outputId": "65a1ed36-f764-47f8-9d3d-85182e69881d"
      },
      "execution_count": 1,
      "outputs": [
        {
          "output_type": "stream",
          "name": "stdout",
          "text": [
            "change all value  [1, 2, 3, 1]\n"
          ]
        }
      ]
    },
    {
      "cell_type": "code",
      "source": [
        "list_num = ['1', 2, 3.0, True]\n",
        "num = [float(i) for i in list_num] #convert all value in float\n",
        "print(\"change all value \", num)"
      ],
      "metadata": {
        "colab": {
          "base_uri": "https://localhost:8080/"
        },
        "id": "LoMhB1d4TZUZ",
        "outputId": "b21f999e-f855-4570-c504-89ff094984d0"
      },
      "execution_count": 2,
      "outputs": [
        {
          "output_type": "stream",
          "name": "stdout",
          "text": [
            "change all value  [1.0, 2.0, 3.0, 1.0]\n"
          ]
        }
      ]
    },
    {
      "cell_type": "code",
      "source": [
        "list_num = ['1', 2, 3.0, True]\n",
        "num = [str(i) for i in list_num] #convert all value in str\n",
        "print(\"change all value \", num)"
      ],
      "metadata": {
        "colab": {
          "base_uri": "https://localhost:8080/"
        },
        "id": "hpjj76gpF6MC",
        "outputId": "5e5af243-bd8e-4974-b770-be769c2517d5"
      },
      "execution_count": 3,
      "outputs": [
        {
          "output_type": "stream",
          "name": "stdout",
          "text": [
            "change all value  ['1', '2', '3.0', 'True']\n"
          ]
        }
      ]
    },
    {
      "cell_type": "code",
      "source": [
        "list_num = ['1', 2, 3.0, True]\n",
        "num = [bool(i) for i in list_num] #convert all value in boolean\n",
        "print(\"change all value \", num)"
      ],
      "metadata": {
        "colab": {
          "base_uri": "https://localhost:8080/"
        },
        "id": "m1EUGAI0F9Rv",
        "outputId": "0a2075ff-6106-44f1-944f-dddeb9d08e2c"
      },
      "execution_count": 4,
      "outputs": [
        {
          "output_type": "stream",
          "name": "stdout",
          "text": [
            "change all value  [True, True, True, True]\n"
          ]
        }
      ]
    },
    {
      "cell_type": "markdown",
      "source": [
        "**11. Write a program that checks if a number is positive, negative, or zero.**"
      ],
      "metadata": {
        "id": "JXtoA-ZIJns9"
      }
    },
    {
      "cell_type": "code",
      "source": [
        "num= int(input(\"Enter the any number postive or negative or zero \"))\n",
        "if num >0:\n",
        "    print(\"The number is postive number\", num)\n",
        "elif num ==0 :\n",
        "        print(\"The number is zero\", num)\n",
        "else:\n",
        "    print(\"The number is negative\", num)"
      ],
      "metadata": {
        "colab": {
          "base_uri": "https://localhost:8080/"
        },
        "id": "eoSQLXUsGCcw",
        "outputId": "f61aa02c-c44d-4db0-c3d7-d5d1d98d426c"
      },
      "execution_count": 7,
      "outputs": [
        {
          "output_type": "stream",
          "name": "stdout",
          "text": [
            "Enter the any number postive or negative or zero 324\n",
            "The number is postive number 324\n"
          ]
        }
      ]
    },
    {
      "cell_type": "markdown",
      "source": [
        "**12. Write a for loop to print numbers from 1 to 10.**"
      ],
      "metadata": {
        "id": "qHsnuVdwM4QN"
      }
    },
    {
      "cell_type": "code",
      "source": [
        "number= 10\n",
        "i=1\n",
        "for i in range(1, 11):\n",
        "  print(i)\n",
        "\n"
      ],
      "metadata": {
        "colab": {
          "base_uri": "https://localhost:8080/"
        },
        "id": "mJz4x831M6Z4",
        "outputId": "c1a49db4-7c73-4490-8382-7d1ec05393dc"
      },
      "execution_count": 12,
      "outputs": [
        {
          "output_type": "stream",
          "name": "stdout",
          "text": [
            "1\n",
            "2\n",
            "3\n",
            "4\n",
            "5\n",
            "6\n",
            "7\n",
            "8\n",
            "9\n",
            "10\n"
          ]
        }
      ]
    },
    {
      "cell_type": "markdown",
      "source": [
        "**13. Write a Python program to find the sum of all even numbers between 1 and 50.**"
      ],
      "metadata": {
        "id": "Syal13UkRU0X"
      }
    },
    {
      "cell_type": "markdown",
      "source": [],
      "metadata": {
        "id": "2wUKFMSJRUVo"
      }
    },
    {
      "cell_type": "code",
      "source": [
        "num= 0\n",
        "for i in range(2, 51, 2):\n",
        "  num=num+i\n",
        "  print(num)\n",
        "\n"
      ],
      "metadata": {
        "colab": {
          "base_uri": "https://localhost:8080/"
        },
        "id": "fJAzRZfMMUYz",
        "outputId": "37d67d8f-b44c-4e84-fe8e-52bff01e88e7"
      },
      "execution_count": 23,
      "outputs": [
        {
          "output_type": "stream",
          "name": "stdout",
          "text": [
            "2\n",
            "6\n",
            "12\n",
            "20\n",
            "30\n",
            "42\n",
            "56\n",
            "72\n",
            "90\n",
            "110\n",
            "132\n",
            "156\n",
            "182\n",
            "210\n",
            "240\n",
            "272\n",
            "306\n",
            "342\n",
            "380\n",
            "420\n",
            "462\n",
            "506\n",
            "552\n",
            "600\n",
            "650\n"
          ]
        }
      ]
    },
    {
      "cell_type": "markdown",
      "source": [
        "**14-Write a program to reverse a string using a while loop.**"
      ],
      "metadata": {
        "id": "RUydZ1zPjmMa"
      }
    },
    {
      "cell_type": "code",
      "source": [
        "text=str(input(\"Enter the string value:  \",))\n",
        "reverse_string=\"\"\n",
        "index=len(text)-1\n",
        "while index>=0:\n",
        "    reverse_string=reverse_string + text[index]\n",
        "    index-=1\n",
        "print(\"Reverse String:\", reverse_string)"
      ],
      "metadata": {
        "colab": {
          "base_uri": "https://localhost:8080/"
        },
        "id": "sMMJlBXvWdvK",
        "outputId": "ee64dc9d-ec1f-40fb-d710-17d38ec43162"
      },
      "execution_count": 28,
      "outputs": [
        {
          "output_type": "stream",
          "name": "stdout",
          "text": [
            "Enter the string value:  Rishabh\n",
            "Reverse String: hbahsiR\n"
          ]
        }
      ]
    },
    {
      "cell_type": "markdown",
      "source": [
        "**15. Write a Python program to calculate the factorial of a number provided by the user using a while loop.**"
      ],
      "metadata": {
        "id": "ZUVLBPapkz6I"
      }
    },
    {
      "cell_type": "code",
      "source": [
        "#Factorial number , 1*2*3*4*5=120\n",
        "num = 5\n",
        "fact = 1\n",
        "if num < 0:\n",
        "    print(\"Factorial is not defined for negative numbers\") #we are checking number is less the 0 or not\n",
        "else:\n",
        "    n = num\n",
        "    while n > 0:\n",
        "        fact =fact* n\n",
        "        n =n- 1\n",
        "    print(\"Factorial of\", num, \"is:\", fact)"
      ],
      "metadata": {
        "colab": {
          "base_uri": "https://localhost:8080/"
        },
        "id": "33EviI26k2aP",
        "outputId": "82bad563-bcaa-42c4-d192-c2936db70514"
      },
      "execution_count": 30,
      "outputs": [
        {
          "output_type": "stream",
          "name": "stdout",
          "text": [
            "Factorial of 5 is: 120\n"
          ]
        }
      ]
    },
    {
      "cell_type": "code",
      "source": [],
      "metadata": {
        "id": "_k3vs-_GSTsB"
      },
      "execution_count": null,
      "outputs": []
    }
  ]
}